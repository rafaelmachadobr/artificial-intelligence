{
 "cells": [
  {
   "cell_type": "code",
   "execution_count": null,
   "metadata": {},
   "outputs": [],
   "source": [
    "import pandas as pd\n",
    "from sklearn.preprocessing import LabelEncoder\n",
    "from sklearn.preprocessing import StandardScaler\n",
    "from sklearn.model_selection import train_test_split\n",
    "from sklearn.decomposition import PCA\n",
    "from sklearn.ensemble import RandomForestClassifier\n",
    "from sklearn.metrics import accuracy_score"
   ]
  },
  {
   "cell_type": "code",
   "execution_count": null,
   "metadata": {},
   "outputs": [],
   "source": [
    "df = pd.read_csv('./census.csv')\n",
    "df.head()\n",
    "\n",
    "x = df.iloc[:, 0:14].values\n",
    "\n",
    "y = df.iloc[:, 14].values\n",
    "\n",
    "le_workclass = LabelEncoder()\n",
    "le_education = LabelEncoder()\n",
    "le_marital = LabelEncoder()\n",
    "le_occupation = LabelEncoder()\n",
    "le_relationship = LabelEncoder()\n",
    "le_race = LabelEncoder()\n",
    "le_sex = LabelEncoder()\n",
    "le_country = LabelEncoder()\n",
    "\n",
    "x[:,1] = le_workclass.fit_transform(x[:,1])\n",
    "x[:,3] = le_education.fit_transform(x[:,3])\n",
    "x[:,5] = le_marital.fit_transform(x[:,5])\n",
    "x[:,6] = le_occupation.fit_transform(x[:,6])\n",
    "x[:,7] = le_relationship.fit_transform(x[:,7])\n",
    "x[:,8] = le_race.fit_transform(x[:,8])\n",
    "x[:,9] = le_sex.fit_transform(x[:,9])\n",
    "x[:,13] = le_country.fit_transform(x[:,13])\n",
    "\n",
    "scaler = StandardScaler()\n",
    "\n",
    "x = scaler.fit_transform(x)\n",
    "\n",
    "x_treino, x_teste, y_treino, y_teste = train_test_split(x, y, test_size=0.20)\n",
    "\n",
    "x_treino.shape, x_teste.shape"
   ]
  },
  {
   "cell_type": "code",
   "execution_count": null,
   "metadata": {},
   "outputs": [],
   "source": [
    "p = 8\n",
    "pca = PCA(n_components=p)\n",
    "\n",
    "x_treino_pca = pca.fit_transform(x_treino)\n",
    "x_teste_pca = pca.transform(x_teste)\n",
    "x_treino_pca.shape, x_teste_pca.shape\n",
    "\n",
    "pca.explained_variance_ratio_\n",
    "\n",
    "total_variancia = pca.explained_variance_ratio_.sum()\n",
    "print(f'O modelo PCA com {p} variáveis explica{100*(total_variancia): .2f} % dos dados de entrada')"
   ]
  },
  {
   "cell_type": "code",
   "execution_count": null,
   "metadata": {},
   "outputs": [],
   "source": [
    "modelo_rf = RandomForestClassifier(n_estimators=40, random_state=0)\n",
    "\n",
    "modelo_rf.fit(x_treino, y_treino)\n",
    "\n",
    "previsoes = modelo_rf.predict(x_teste)\n",
    "\n",
    "previsoes\n",
    "\n",
    "y_teste\n",
    "\n",
    "acuracia = accuracy_score(y_teste, previsoes)\n",
    "print(f'A acurácia do modelo Random Forest é de:{(100*acuracia): .2f} %')"
   ]
  },
  {
   "cell_type": "code",
   "execution_count": null,
   "metadata": {},
   "outputs": [],
   "source": []
  }
 ],
 "metadata": {
  "language_info": {
   "name": "python"
  }
 },
 "nbformat": 4,
 "nbformat_minor": 2
}
